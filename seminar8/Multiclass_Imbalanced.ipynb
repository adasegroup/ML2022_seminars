{
 "cells": [
  {
   "cell_type": "markdown",
   "metadata": {},
   "source": [
    "<a href=\"https://colab.research.google.com/github/adasegroup/ML2021_seminars/blob/master/seminar8/Multiclass_Imbalanced.ipynb\" target=\"_parent\"><img src=\"https://colab.research.google.com/assets/colab-badge.svg\" alt=\"Open In Colab\"/></a>"
   ]
  },
  {
   "cell_type": "markdown",
   "metadata": {},
   "source": [
    "# Advanced classification: Imbalanced and Multi-class cases"
   ]
  },
  {
   "cell_type": "markdown",
   "metadata": {},
   "source": [
    "In this seminar we will learn how to perform classification in the case of multiple balanced or imbalanced classes. \n",
    "\n",
    "The dataset, which we will use for this tutorial, is the smaller version of [Stanford Dogs Dataset](http://vision.stanford.edu/aditya86/ImageNetDogs/). The initial dataset consists of images of 120 breeds of dogs. In our case we are going to use just 4 classes out of those 120."
   ]
  },
  {
   "cell_type": "markdown",
   "metadata": {},
   "source": [
    "![dogs_pic](https://dog.ceo/img/dog-api-fb.jpg)"
   ]
  },
  {
   "cell_type": "markdown",
   "metadata": {},
   "source": [
    "#### The plan of the seminar:\n",
    "* a small introduction to Stanford Dogs Dataset\n",
    "* Producing the features of the images using the pretrained neural network (we will consider it as a black box)\n",
    "* Multi-class classification methods: One-vs-One and One-vs-Rest\n",
    "* Imbalanced dataset - why is it a problem?\n",
    "* Imbalanced classification methods: Over and Under-Sampling, SMOTE "
   ]
  },
  {
   "cell_type": "markdown",
   "metadata": {},
   "source": [
    "Let us start with some library imports."
   ]
  },
  {
   "cell_type": "markdown",
   "metadata": {},
   "source": [
    "##### NOTES:\n",
    "* Class description\n",
    "* dataframe creation in class or in seminar"
   ]
  },
  {
   "cell_type": "code",
   "execution_count": null,
   "metadata": {},
   "outputs": [],
   "source": [
    "!pip install -U imbalanced-learn"
   ]
  },
  {
   "cell_type": "code",
   "execution_count": null,
   "metadata": {},
   "outputs": [],
   "source": [
    "!wget https://github.com/adasegroup/ML2021_seminars/raw/main/seminar8/data/dog_breeds.zip"
   ]
  },
  {
   "cell_type": "code",
   "execution_count": null,
   "metadata": {},
   "outputs": [],
   "source": [
    "!unzip -oqd \"./\" \"dog_breeds.zip\""
   ]
  },
  {
   "cell_type": "code",
   "execution_count": null,
   "metadata": {},
   "outputs": [],
   "source": [
    "!ls ."
   ]
  },
  {
   "cell_type": "code",
   "execution_count": null,
   "metadata": {},
   "outputs": [],
   "source": [
    "!rm -rf ./__MACOSX ./sample_data .config ./dog_breeds.zip"
   ]
  },
  {
   "cell_type": "code",
   "execution_count": null,
   "metadata": {},
   "outputs": [],
   "source": [
    "import torch\n",
    "import pandas as pd\n",
    "import matplotlib.pyplot as plt\n",
    "import urllib\n",
    "%matplotlib inline\n",
    "from PIL import Image\n",
    "from torchvision import transforms\n",
    "import os\n",
    "import sklearn\n",
    "import os.path\n",
    "from tqdm.autonotebook import tqdm"
   ]
  },
  {
   "cell_type": "code",
   "execution_count": null,
   "metadata": {},
   "outputs": [],
   "source": [
    "paths_doggies = [i for i in os.listdir('./') if '.DS_' not in i] "
   ]
  },
  {
   "cell_type": "code",
   "execution_count": null,
   "metadata": {},
   "outputs": [],
   "source": [
    "#if you load your data from the local directory\n",
    "#################################\n",
    "#path_doggies =\"dog_breeds/small\"\n",
    "#paths_doggies = [path_doggies +'/'+ i for i in os.listdir(path_doggies) if '.DS_' not in i] \n",
    "#################################"
   ]
  },
  {
   "cell_type": "markdown",
   "metadata": {},
   "source": [
    "<br>"
   ]
  },
  {
   "cell_type": "markdown",
   "metadata": {},
   "source": [
    "Now let us have a look at the data"
   ]
  },
  {
   "cell_type": "code",
   "execution_count": null,
   "metadata": {},
   "outputs": [],
   "source": [
    "def img_show(img, ax, title = None):\n",
    "    \"\"\"\n",
    "    Plots the image on the particular axis\n",
    "\n",
    "    Parameters\n",
    "    ----------\n",
    "    img: Image,image to plot.\n",
    "    axis: matplotlib axis to plot on.\n",
    "    title: string, the title of the image\n",
    "    \n",
    "    \"\"\"\n",
    "    ax.imshow(img)\n",
    "    ax.axis('off')\n",
    "    if title:\n",
    "        ax.set_title(title)"
   ]
  },
  {
   "cell_type": "code",
   "execution_count": null,
   "metadata": {},
   "outputs": [],
   "source": [
    "#images for plotting \n",
    "img_names = {}\n",
    "for num, i in enumerate(paths_doggies[:4]):\n",
    "    img_names.update({i.split('-')[-1]:paths_doggies[num]+'/'+os.listdir(i)[0]})\n"
   ]
  },
  {
   "cell_type": "code",
   "execution_count": null,
   "metadata": {},
   "outputs": [],
   "source": [
    "#plot the images from img_names\n",
    "fig, ax = plt.subplots(1,4, figsize=(20,10))\n",
    "k = 0\n",
    "for i, key in enumerate(img_names.keys()):\n",
    "    img_show(Image.open(img_names[key]), ax[i], title = key)\n",
    "plt.show()"
   ]
  },
  {
   "cell_type": "markdown",
   "metadata": {},
   "source": [
    "In order to make working with the data much easier, we are going to create a class, that will store the ```image_to_features``` model, the ```data_list```, containing all the vectors of features of the image samples and the ```data_path```."
   ]
  },
  {
   "cell_type": "code",
   "execution_count": null,
   "metadata": {},
   "outputs": [],
   "source": [
    "class DogBreedDataset:\n",
    "    def __init__(self, data_path, feature_generator, num_samples=None):\n",
    "        \"\"\"\n",
    "        A wrapper class for Stanford Dog Breeds dataset.\n",
    "\n",
    "        Parameters\n",
    "        ----------\n",
    "        data_path: string, the path to the dataset.\n",
    "        feature_generator: torch.nn.Module, the model, that receives the torch.tensor of the preprocessed image \n",
    "                           as the input and produces the tensor of features as the output.\n",
    "        num_samples: integer, the number of samples in each class to load, default: None.\n",
    "        \"\"\"\n",
    "        self.data_path = data_path\n",
    "        self.model = feature_generator\n",
    "        self.num_samples = num_samples\n",
    "        self.data_list = []\n",
    "\n",
    "    def preprocess_image(self, image):\n",
    "        \"\"\"\n",
    "        Opens and preprocesses an Image according to the requirements mentioned at https://pytorch.org/hub/pytorch_vision_vgg/\n",
    "\n",
    "        Parameters\n",
    "        ----------\n",
    "        path: the path to the image.\n",
    "        img_name: the name of the image file.\n",
    "\n",
    "        Returns\n",
    "        -------\n",
    "        input_tensor: the tensor of the preprocessed image.\n",
    "        input_batch: input_tensor with an extra dim, representing a batch\n",
    "        \"\"\"\n",
    "\n",
    "        preprocess = transforms.Compose([\n",
    "            transforms.Resize(256),\n",
    "            transforms.CenterCrop(224),\n",
    "            transforms.ToTensor(),\n",
    "            transforms.Normalize(mean=[0.485, 0.456, 0.406],\n",
    "                                 std=[0.229, 0.224, 0.225]),\n",
    "        ])\n",
    "        input_tensor = preprocess(image)\n",
    "        input_batch = input_tensor.unsqueeze(0)\n",
    "        return input_batch\n",
    "\n",
    "    def load_dataset(self):\n",
    "        \"\"\"\n",
    "        Loads and preprocesses the images from the dataset\n",
    "\n",
    "        Parameters\n",
    "        ----------\n",
    "        path: the path to the image.\n",
    "        img_name: the name of the image file.\n",
    "\n",
    "        Returns\n",
    "        -------\n",
    "        data_list: the list of vectors of features of dogs' images\n",
    "        \"\"\"\n",
    "        data_list = []\n",
    "        for path in tqdm(self.data_path):\n",
    "            counter = 0\n",
    "            for filename in tqdm(os.listdir(path)):\n",
    "                counter += 1\n",
    "                # input\n",
    "                with open(os.path.join(path, filename), 'rb') as file:\n",
    "                    batch = self.preprocess_image(Image.open(file))\n",
    "\n",
    "                with torch.no_grad():\n",
    "                    features = self.model(batch).flatten().cpu().numpy()\n",
    "\n",
    "                # label\n",
    "                _, label = path.split('-', 1)\n",
    "                data_list.append((features, label))\n",
    "\n",
    "                if counter >= self.num_samples:\n",
    "                    break\n",
    "\n",
    "        return data_list"
   ]
  },
  {
   "cell_type": "markdown",
   "metadata": {},
   "source": [
    "The model that we are going to use to get our features from this raw images is the Neural Network called **VGG-11** (you are going to learn about these types of NN models later in this course)."
   ]
  },
  {
   "cell_type": "markdown",
   "metadata": {},
   "source": [
    "Lucky for us, [```PyTorch```](https://pytorch.org) library stores some of the most popular [pretrained Neural Networks](https://pytorch.org/hub/), so we don't have to design and train the VGG-11 NN from sctratch."
   ]
  },
  {
   "cell_type": "code",
   "execution_count": null,
   "metadata": {},
   "outputs": [],
   "source": [
    "import ssl\n",
    "\n",
    "ssl._create_default_https_context = ssl._create_unverified_context"
   ]
  },
  {
   "cell_type": "code",
   "execution_count": null,
   "metadata": {},
   "outputs": [],
   "source": [
    "#download the VGG11 model from pytorch hub\n",
    "model = torch.hub.load('pytorch/vision:v0.4.0', 'vgg11', pretrained=True)"
   ]
  },
  {
   "cell_type": "markdown",
   "metadata": {},
   "source": [
    "![](https://neurohive.io/wp-content/uploads/2018/11/vgg16-1-e1542731207177.png)"
   ]
  },
  {
   "cell_type": "markdown",
   "metadata": {},
   "source": [
    "However, we do not need the whole network for producing the images' features - we will take only the part of it, just before the first __fully connected__ layer."
   ]
  },
  {
   "cell_type": "code",
   "execution_count": null,
   "metadata": {},
   "outputs": [],
   "source": [
    "#take only the \"head\" that outputs the images' features\n",
    "image_to_feats = model.features"
   ]
  },
  {
   "cell_type": "code",
   "execution_count": null,
   "metadata": {},
   "outputs": [],
   "source": [
    "image_to_feats.eval()"
   ]
  },
  {
   "cell_type": "markdown",
   "metadata": {},
   "source": [
    "Let's have a look at our data:"
   ]
  },
  {
   "cell_type": "markdown",
   "metadata": {},
   "source": [
    "Let us download, preprocess and store the features of the images in a pandas dataframe"
   ]
  },
  {
   "cell_type": "code",
   "execution_count": null,
   "metadata": {},
   "outputs": [],
   "source": [
    "dataset_class = DogBreedDataset(paths_doggies, image_to_feats, num_samples = 150)"
   ]
  },
  {
   "cell_type": "code",
   "execution_count": null,
   "metadata": {},
   "outputs": [],
   "source": [
    "datalist = dataset_class.load_dataset()"
   ]
  },
  {
   "cell_type": "markdown",
   "metadata": {},
   "source": [
    "Let's create a pandas dataframe with all the features and labels. "
   ]
  },
  {
   "cell_type": "code",
   "execution_count": null,
   "metadata": {},
   "outputs": [],
   "source": [
    "features, label = datalist[0]"
   ]
  },
  {
   "cell_type": "code",
   "execution_count": null,
   "metadata": {},
   "outputs": [],
   "source": [
    "columns = [f\"feat_{i+1}\" for i in range(len(features))]\n",
    "df_doggies = pd.DataFrame(\n",
    "    [feat for feat, lab in datalist],\n",
    "    columns=columns)\n",
    "\n",
    "df_doggies[\"y\"] = [lab for feat, lab in datalist]"
   ]
  },
  {
   "cell_type": "code",
   "execution_count": null,
   "metadata": {},
   "outputs": [],
   "source": [
    "df_doggies.shape"
   ]
  },
  {
   "cell_type": "code",
   "execution_count": null,
   "metadata": {},
   "outputs": [],
   "source": [
    "df_doggies.head()"
   ]
  },
  {
   "cell_type": "markdown",
   "metadata": {},
   "source": [
    "Turn the labels to Categorical type and create the dictionary, in case we would like to recover the original labels"
   ]
  },
  {
   "cell_type": "code",
   "execution_count": null,
   "metadata": {},
   "outputs": [],
   "source": [
    "df_doggies.y = pd.Categorical(df_doggies.y)"
   ]
  },
  {
   "cell_type": "code",
   "execution_count": null,
   "metadata": {},
   "outputs": [],
   "source": [
    "label_map = dict(enumerate(df_doggies.y.cat.categories) )"
   ]
  },
  {
   "cell_type": "code",
   "execution_count": null,
   "metadata": {},
   "outputs": [],
   "source": [
    "label_map"
   ]
  },
  {
   "cell_type": "code",
   "execution_count": null,
   "metadata": {},
   "outputs": [],
   "source": [
    "df_doggies.y = df_doggies.y.cat.codes"
   ]
  },
  {
   "cell_type": "markdown",
   "metadata": {},
   "source": [
    "## Plotting the data using dimensinonality reduction techniques"
   ]
  },
  {
   "cell_type": "markdown",
   "metadata": {},
   "source": [
    "DataPlotter is another blackbox that we are going to use for representing our features in a more convenient way for plotting (later in the course you will learn about PCA and TSNE).\n"
   ]
  },
  {
   "cell_type": "markdown",
   "metadata": {},
   "source": [
    "Let's plot our data!"
   ]
  },
  {
   "cell_type": "code",
   "execution_count": null,
   "metadata": {},
   "outputs": [],
   "source": [
    "from sklearn.manifold import TSNE\n",
    "import seaborn as sns\n",
    "from sklearn.decomposition import PCA\n",
    "\n",
    "class DataPlotter:\n",
    "    def __init__(self, data, dim_red = 'pca', X=None, y=None):\n",
    "        \"\"\"\n",
    "        A wrapper class for dimensionality reduction and plotting.\n",
    "\n",
    "        Parameters\n",
    "        ----------\n",
    "        data_path: dataframe, the dataset.\n",
    "        dim_red: string, the dimensionality reduction technique to use, either 'tsne' or 'pca'.\n",
    "        \"\"\" \n",
    "        self.data = data\n",
    "        self.dim_red = dim_red\n",
    "        self.X = X\n",
    "        self.y = y\n",
    "        if X is None:\n",
    "            self.X = self.data.loc[:, self.data.columns!='y']\n",
    "        if y is None:\n",
    "            self.y = self.data.y.astype(int)\n",
    "       \n",
    "    def shuffle_data(self):\n",
    "        \"\"\"\n",
    "        Randomly shuffling the data.\n",
    "        \"\"\"\n",
    "        self.X = self.X.sample(frac=1).reset_index(drop=True)\n",
    "        self.y = self.y.sample(frac=1).reset_index(drop=True)\n",
    "\n",
    "    def reduce_dimension(self):\n",
    "        \"\"\"\n",
    "        Reduce the current dimension of the feature data to 2 dimensions using either pca or tsne.\n",
    "        \"\"\"\n",
    "        if self.dim_red =='tsne':\n",
    "            self.X_embedded = TSNE(n_components=2, perplexity=30.0).fit_transform(self.X)\n",
    "        elif self.dim_red == 'pca':\n",
    "            self.X_embedded = PCA(n_components=2).fit_transform(self.X)\n",
    "\n",
    "    def plot_data(self):\n",
    "        plt.figure(figsize=(20,10))\n",
    "        sns.scatterplot(self.X_embedded[:,0], self.X_embedded[:,1], hue = self.y, palette=\"rainbow\", s=100,  \n",
    "                        legend = \"full\")"
   ]
  },
  {
   "cell_type": "code",
   "execution_count": null,
   "metadata": {},
   "outputs": [],
   "source": [
    "data_pltr = DataPlotter(df_doggies, dim_red = 'pca')"
   ]
  },
  {
   "cell_type": "code",
   "execution_count": null,
   "metadata": {},
   "outputs": [],
   "source": [
    "data_pltr.reduce_dimension()"
   ]
  },
  {
   "cell_type": "code",
   "execution_count": null,
   "metadata": {},
   "outputs": [],
   "source": [
    "data_pltr.plot_data()"
   ]
  },
  {
   "cell_type": "markdown",
   "metadata": {},
   "source": [
    "## Multi-class classification"
   ]
  },
  {
   "cell_type": "markdown",
   "metadata": {},
   "source": [
    "Finally, let's try some multi-class classification methods."
   ]
  },
  {
   "cell_type": "code",
   "execution_count": null,
   "metadata": {},
   "outputs": [],
   "source": [
    "from sklearn.model_selection import train_test_split\n",
    "from sklearn.base import clone"
   ]
  },
  {
   "cell_type": "markdown",
   "metadata": {},
   "source": [
    "Train-test split"
   ]
  },
  {
   "cell_type": "code",
   "execution_count": null,
   "metadata": {},
   "outputs": [],
   "source": [
    "y = df_doggies.y.astype(int)\n",
    "X = df_doggies.loc[:, df_doggies.columns!='y']\n",
    "\n",
    "split = train_test_split(X, y, test_size=0.5,\n",
    "                         random_state=42, stratify=y)\n",
    "train_X, test_X, train_y, test_y = split"
   ]
  },
  {
   "cell_type": "markdown",
   "metadata": {},
   "source": [
    "Most of the binary classification methods that you have already discussed in the previous seminars, unfortuntelly, only allow to distinguish one class from the other. However, in our case, we want to classify several dog breeds, so how can we do that?"
   ]
  },
  {
   "cell_type": "markdown",
   "metadata": {},
   "source": [
    "One way to this problem is using **One-vs-All** approach:\n",
    "![](https://miro.medium.com/max/1574/1*7sz-bpA4r_xSqAG3IJx-7w.jpeg)"
   ]
  },
  {
   "cell_type": "code",
   "execution_count": null,
   "metadata": {},
   "outputs": [],
   "source": [
    "from sklearn.svm import LinearSVC\n",
    "\n",
    "model_SVC = LinearSVC(random_state=0)"
   ]
  },
  {
   "cell_type": "code",
   "execution_count": null,
   "metadata": {},
   "outputs": [],
   "source": [
    "from sklearn.multiclass import OneVsRestClassifier\n",
    "\n",
    "ovr_classifier = OneVsRestClassifier(clone(model_SVC), n_jobs=-1)\n",
    "ovr_classifier.fit(train_X, train_y)"
   ]
  },
  {
   "cell_type": "code",
   "execution_count": null,
   "metadata": {},
   "outputs": [],
   "source": [
    "from sklearn.metrics import confusion_matrix"
   ]
  },
  {
   "cell_type": "code",
   "execution_count": null,
   "metadata": {},
   "outputs": [],
   "source": [
    "predict_y = ovr_classifier.predict(test_X)\n",
    "\n",
    "cmatrix = confusion_matrix(test_y, predict_y)\n",
    "pd.DataFrame(cmatrix)"
   ]
  },
  {
   "cell_type": "markdown",
   "metadata": {},
   "source": [
    "rows -- fact\n",
    "columns -- predict"
   ]
  },
  {
   "cell_type": "code",
   "execution_count": null,
   "metadata": {},
   "outputs": [],
   "source": [
    "print(\"Accuracy %.3f%%\" % (100 * ovr_classifier.score(test_X, test_y)))\n"
   ]
  },
  {
   "cell_type": "markdown",
   "metadata": {},
   "source": [
    "### One-vs-One approach to multi-class classification"
   ]
  },
  {
   "cell_type": "markdown",
   "metadata": {},
   "source": [
    "![](https://ars.els-cdn.com/content/image/1-s2.0-S0950705116301459-gr1.jpg)"
   ]
  },
  {
   "cell_type": "markdown",
   "metadata": {},
   "source": [
    "In the same manner we have trained and evaluated OneVsRest algorithm, train the OneVsOneClassifier.\n",
    "Have a look at the accuracy and confusion matrix. Which method has performed best?"
   ]
  },
  {
   "cell_type": "code",
   "execution_count": null,
   "metadata": {},
   "outputs": [],
   "source": [
    "from sklearn.multiclass import OneVsOneClassifier"
   ]
  },
  {
   "cell_type": "code",
   "execution_count": null,
   "metadata": {},
   "outputs": [],
   "source": [
    "###YOUR CODE###"
   ]
  },
  {
   "cell_type": "markdown",
   "metadata": {},
   "source": [
    "## Imbalanced data"
   ]
  },
  {
   "cell_type": "markdown",
   "metadata": {},
   "source": [
    "Data imbalance is a very common problem for many machine learning problems. Consider volcano erruption, or plane crush prediction - there is an abundance of negative examples, when the event does not happen and very little recorded cases of the events, the occurence of which we want to predict."
   ]
  },
  {
   "cell_type": "markdown",
   "metadata": {},
   "source": [
    "This is where various methods of class balancing is going to help."
   ]
  },
  {
   "cell_type": "code",
   "execution_count": null,
   "metadata": {},
   "outputs": [],
   "source": [
    "X_sub, y_sub = df_doggies.loc[:, df_doggies.columns!='y'], df_doggies.y.astype(int)"
   ]
  },
  {
   "cell_type": "code",
   "execution_count": null,
   "metadata": {},
   "outputs": [],
   "source": [
    "data_pltr = DataPlotter(df_doggies, dim_red = 'pca')\n",
    "data_pltr.reduce_dimension()\n",
    "data_pltr.plot_data()"
   ]
  },
  {
   "cell_type": "code",
   "execution_count": null,
   "metadata": {},
   "outputs": [],
   "source": [
    "from collections import Counter\n",
    "print('Distribution before imbalancing: {}'.format(Counter(y_sub)))"
   ]
  },
  {
   "cell_type": "code",
   "execution_count": null,
   "metadata": {},
   "outputs": [],
   "source": [
    "from imblearn.datasets import make_imbalance\n",
    "X_res, y_res = make_imbalance(\n",
    "    X_sub, y_sub, sampling_strategy={0: 150, 1: 150, 2: 30, 3: 150},\n",
    "    random_state=1)\n"
   ]
  },
  {
   "cell_type": "code",
   "execution_count": null,
   "metadata": {},
   "outputs": [],
   "source": [
    "print('Distribution after imbalancing: {}'.format(Counter(y_res)))"
   ]
  },
  {
   "cell_type": "code",
   "execution_count": null,
   "metadata": {},
   "outputs": [],
   "source": [
    "data_pltr = DataPlotter(df_doggies, dim_red = 'pca', X = X_res, y = y_res)\n",
    "data_pltr.reduce_dimension()\n",
    "data_pltr.plot_data()"
   ]
  },
  {
   "cell_type": "code",
   "execution_count": null,
   "metadata": {},
   "outputs": [],
   "source": [
    "split = train_test_split(X_res, y_res, test_size=0.3,\n",
    "                         random_state=42, stratify=y_res)\n",
    "train_X, test_X, train_y, test_y = split"
   ]
  },
  {
   "cell_type": "code",
   "execution_count": null,
   "metadata": {},
   "outputs": [],
   "source": [
    "from sklearn.linear_model import RidgeClassifier\n",
    "model_SVC = LinearSVC(random_state=50)\n",
    "#model_SVC = RidgeClassifier(random_state=0)\n",
    "ovr_classifier = OneVsRestClassifier(clone(model_SVC), n_jobs=-1)\n",
    "ovr_classifier.fit(train_X, train_y)"
   ]
  },
  {
   "cell_type": "code",
   "execution_count": null,
   "metadata": {},
   "outputs": [],
   "source": [
    "predictions = ovr_classifier.predict(test_X)\n",
    "#predictions = model_SVC.predict(test_X[test_y==0])"
   ]
  },
  {
   "cell_type": "code",
   "execution_count": null,
   "metadata": {},
   "outputs": [],
   "source": [
    "from imblearn.metrics import classification_report_imbalanced"
   ]
  },
  {
   "cell_type": "code",
   "execution_count": null,
   "metadata": {},
   "outputs": [],
   "source": [
    "print(\"Accuracy %.3f%%\" % (100 * ovr_classifier.score(test_X, test_y)))"
   ]
  },
  {
   "cell_type": "code",
   "execution_count": null,
   "metadata": {},
   "outputs": [],
   "source": [
    "print(classification_report_imbalanced(test_y, predictions))"
   ]
  },
  {
   "cell_type": "markdown",
   "metadata": {},
   "source": [
    "## Techniques to try, when dealing with the imabalanced dataset:\n",
    "* Under/Over Sampling\n",
    "* Synthetic minority over-sampling technique and its variants (ADASYN, BorderlineSMOTE, etc)"
   ]
  },
  {
   "cell_type": "code",
   "execution_count": null,
   "metadata": {},
   "outputs": [],
   "source": [
    "from imblearn.over_sampling import RandomOverSampler, SMOTE\n",
    "from imblearn.under_sampling import RandomUnderSampler"
   ]
  },
  {
   "cell_type": "code",
   "execution_count": null,
   "metadata": {},
   "outputs": [],
   "source": [
    "balancer = RandomUnderSampler()"
   ]
  },
  {
   "cell_type": "code",
   "execution_count": null,
   "metadata": {},
   "outputs": [],
   "source": [
    "balanced_train_x, balanced_train_y = balancer.fit_resample(train_X, train_y)"
   ]
  },
  {
   "cell_type": "code",
   "execution_count": null,
   "metadata": {},
   "outputs": [],
   "source": [
    "print('Distribution before balancing: {}'.format(Counter(train_y)))"
   ]
  },
  {
   "cell_type": "code",
   "execution_count": null,
   "metadata": {},
   "outputs": [],
   "source": [
    "print('Distribution after balancing: {}'.format(Counter(balanced_train_y)))"
   ]
  },
  {
   "cell_type": "code",
   "execution_count": null,
   "metadata": {},
   "outputs": [],
   "source": [
    "model = LinearSVC(random_state=50)\n",
    "ovr_classifier = OneVsRestClassifier(clone(model), n_jobs=-1)\n",
    "ovr_classifier.fit(balanced_train_x, balanced_train_y)"
   ]
  },
  {
   "cell_type": "code",
   "execution_count": null,
   "metadata": {},
   "outputs": [],
   "source": [
    "print(\"Accuracy %.3f%%\" % (100 * ovr_classifier.score(test_X, test_y)))"
   ]
  },
  {
   "cell_type": "code",
   "execution_count": null,
   "metadata": {},
   "outputs": [],
   "source": [
    "predictions = ovr_classifier.predict(test_X)\n",
    "#predictions = model.predict(test_X[test_y==0])"
   ]
  },
  {
   "cell_type": "code",
   "execution_count": null,
   "metadata": {},
   "outputs": [],
   "source": [
    "print(classification_report_imbalanced(test_y, predictions))"
   ]
  },
  {
   "cell_type": "code",
   "execution_count": null,
   "metadata": {},
   "outputs": [],
   "source": [
    "pd.DataFrame(confusion_matrix(test_y, predictions))"
   ]
  },
  {
   "cell_type": "markdown",
   "metadata": {},
   "source": [
    "Have a look at how ```RandomOverSampler()``` will deal with the same task. Is it better or worse?"
   ]
  },
  {
   "cell_type": "code",
   "execution_count": null,
   "metadata": {},
   "outputs": [],
   "source": [
    "balancer = RandomOverSampler()"
   ]
  },
  {
   "cell_type": "code",
   "execution_count": null,
   "metadata": {},
   "outputs": [],
   "source": [
    "### YOUR CODE ###"
   ]
  },
  {
   "cell_type": "markdown",
   "metadata": {},
   "source": [
    "## SMOTE"
   ]
  },
  {
   "cell_type": "markdown",
   "metadata": {},
   "source": [
    "<img src=\"https://ars.els-cdn.com/content/image/1-s2.0-S0950705119302898-gr1.jpg\" alt=\"smote\" width=\"600\"/>"
   ]
  },
  {
   "cell_type": "code",
   "execution_count": null,
   "metadata": {},
   "outputs": [],
   "source": [
    "rebalancer = SMOTE(sampling_strategy='not majority', k_neighbors=5, random_state = 1)"
   ]
  },
  {
   "cell_type": "code",
   "execution_count": null,
   "metadata": {},
   "outputs": [],
   "source": [
    "under_balancer = RandomUnderSampler(sampling_strategy={0:20, 1: 30, 3:50})"
   ]
  },
  {
   "cell_type": "code",
   "execution_count": null,
   "metadata": {},
   "outputs": [],
   "source": [
    "balanced_train_x, balanced_train_y = under_balancer.fit_resample(train_X, train_y)"
   ]
  },
  {
   "cell_type": "code",
   "execution_count": null,
   "metadata": {},
   "outputs": [],
   "source": [
    "print('Distribution before balancing: {}'.format(Counter(balanced_train_y)))"
   ]
  },
  {
   "cell_type": "code",
   "execution_count": null,
   "metadata": {},
   "outputs": [],
   "source": [
    "model = LinearSVC(random_state=0)\n",
    "\n",
    "ovr_classifier = OneVsRestClassifier(clone(model))\n",
    "X_SMOTE, y_SMOTE = rebalancer.fit_resample(balanced_train_x, balanced_train_y)\n",
    "print('Distribution after balancing: {}'.format(Counter(y_SMOTE)))\n",
    "ovr_classifier = ovr_classifier.fit(X_SMOTE, y_SMOTE)"
   ]
  },
  {
   "cell_type": "code",
   "execution_count": null,
   "metadata": {},
   "outputs": [],
   "source": [
    "predict_y_balanced = ovr_classifier.predict(test_X)\n",
    "pd.DataFrame(confusion_matrix(test_y, predict_y_balanced))"
   ]
  },
  {
   "cell_type": "code",
   "execution_count": null,
   "metadata": {},
   "outputs": [],
   "source": [
    "print(\"Accuracy %.3f%%\" % (100 * ovr_classifier.score(test_X, test_y)))"
   ]
  },
  {
   "cell_type": "code",
   "execution_count": null,
   "metadata": {},
   "outputs": [],
   "source": [
    "print(classification_report_imbalanced(test_y, predict_y_balanced))"
   ]
  },
  {
   "cell_type": "code",
   "execution_count": null,
   "metadata": {},
   "outputs": [],
   "source": [
    "data_pltr = DataPlotter(df_doggies, dim_red = 'pca', X = X_SMOTE, y = y_SMOTE)\n",
    "data_pltr.reduce_dimension()\n",
    "data_pltr.plot_data()"
   ]
  },
  {
   "cell_type": "markdown",
   "metadata": {},
   "source": [
    "There are different variations of SMOTE method, such as ADASYN, BalancedSMOTE etc. Many of them are avaliable in [```imblearn```](https://imbalanced-learn.readthedocs.io/en/stable/api.html) library.\n",
    "\n",
    "**Try out those methods yourself, using the mentioned functions, plot and analyze the results.**"
   ]
  },
  {
   "cell_type": "code",
   "execution_count": null,
   "metadata": {},
   "outputs": [],
   "source": [
    "### YOUR CODE ####"
   ]
  }
 ],
 "metadata": {
  "kernelspec": {
   "display_name": "Python 3",
   "language": "python",
   "name": "python3"
  },
  "language_info": {
   "codemirror_mode": {
    "name": "ipython",
    "version": 3
   },
   "file_extension": ".py",
   "mimetype": "text/x-python",
   "name": "python",
   "nbconvert_exporter": "python",
   "pygments_lexer": "ipython3",
   "version": "3.7.1"
  }
 },
 "nbformat": 4,
 "nbformat_minor": 2
}
